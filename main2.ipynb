{
 "cells": [
  {
   "cell_type": "code",
   "execution_count": 180,
   "metadata": {},
   "outputs": [],
   "source": [
    "import pandas as pd\n",
    "import pmdarima as pm\n",
    "from sklearn.metrics import mean_squared_error\n",
    "\n"
   ]
  },
  {
   "cell_type": "code",
   "execution_count": 286,
   "metadata": {},
   "outputs": [
    {
     "data": {
      "text/html": [
       "<table class=\"simpletable\">\n",
       "<caption>SARIMAX Results</caption>\n",
       "<tr>\n",
       "  <th>Dep. Variable:</th>           <td>y</td>        <th>  No. Observations:  </th>   <td>12</td>   \n",
       "</tr>\n",
       "<tr>\n",
       "  <th>Model:</th>           <td>SARIMAX(0, 1, 0)</td> <th>  Log Likelihood     </th> <td>-28.209</td>\n",
       "</tr>\n",
       "<tr>\n",
       "  <th>Date:</th>            <td>Wed, 10 May 2023</td> <th>  AIC                </th> <td>60.417</td> \n",
       "</tr>\n",
       "<tr>\n",
       "  <th>Time:</th>                <td>13:59:45</td>     <th>  BIC                </th> <td>61.213</td> \n",
       "</tr>\n",
       "<tr>\n",
       "  <th>Sample:</th>             <td>01-01-2011</td>    <th>  HQIC               </th> <td>59.915</td> \n",
       "</tr>\n",
       "<tr>\n",
       "  <th></th>                   <td>- 01-01-2022</td>   <th>                     </th>    <td> </td>   \n",
       "</tr>\n",
       "<tr>\n",
       "  <th>Covariance Type:</th>        <td>opg</td>       <th>                     </th>    <td> </td>   \n",
       "</tr>\n",
       "</table>\n",
       "<table class=\"simpletable\">\n",
       "<tr>\n",
       "      <td></td>         <th>coef</th>     <th>std err</th>      <th>z</th>      <th>P>|z|</th>  <th>[0.025</th>    <th>0.975]</th>  \n",
       "</tr>\n",
       "<tr>\n",
       "  <th>intercept</th> <td>    7.5455</td> <td>    1.036</td> <td>    7.284</td> <td> 0.000</td> <td>    5.515</td> <td>    9.576</td>\n",
       "</tr>\n",
       "<tr>\n",
       "  <th>sigma2</th>    <td>    9.8843</td> <td>    6.788</td> <td>    1.456</td> <td> 0.145</td> <td>   -3.420</td> <td>   23.189</td>\n",
       "</tr>\n",
       "</table>\n",
       "<table class=\"simpletable\">\n",
       "<tr>\n",
       "  <th>Ljung-Box (L1) (Q):</th>     <td>1.77</td> <th>  Jarque-Bera (JB):  </th> <td>0.81</td>\n",
       "</tr>\n",
       "<tr>\n",
       "  <th>Prob(Q):</th>                <td>0.18</td> <th>  Prob(JB):          </th> <td>0.67</td>\n",
       "</tr>\n",
       "<tr>\n",
       "  <th>Heteroskedasticity (H):</th> <td>0.41</td> <th>  Skew:              </th> <td>0.39</td>\n",
       "</tr>\n",
       "<tr>\n",
       "  <th>Prob(H) (two-sided):</th>    <td>0.40</td> <th>  Kurtosis:          </th> <td>1.92</td>\n",
       "</tr>\n",
       "</table><br/><br/>Warnings:<br/>[1] Covariance matrix calculated using the outer product of gradients (complex-step)."
      ],
      "text/latex": [
       "\\begin{center}\n",
       "\\begin{tabular}{lclc}\n",
       "\\toprule\n",
       "\\textbf{Dep. Variable:}          &        y         & \\textbf{  No. Observations:  } &     12      \\\\\n",
       "\\textbf{Model:}                  & SARIMAX(0, 1, 0) & \\textbf{  Log Likelihood     } &  -28.209    \\\\\n",
       "\\textbf{Date:}                   & Wed, 10 May 2023 & \\textbf{  AIC                } &   60.417    \\\\\n",
       "\\textbf{Time:}                   &     13:59:45     & \\textbf{  BIC                } &   61.213    \\\\\n",
       "\\textbf{Sample:}                 &    01-01-2011    & \\textbf{  HQIC               } &   59.915    \\\\\n",
       "\\textbf{}                        &   - 01-01-2022   & \\textbf{                     } &             \\\\\n",
       "\\textbf{Covariance Type:}        &       opg        & \\textbf{                     } &             \\\\\n",
       "\\bottomrule\n",
       "\\end{tabular}\n",
       "\\begin{tabular}{lcccccc}\n",
       "                   & \\textbf{coef} & \\textbf{std err} & \\textbf{z} & \\textbf{P$> |$z$|$} & \\textbf{[0.025} & \\textbf{0.975]}  \\\\\n",
       "\\midrule\n",
       "\\textbf{intercept} &       7.5455  &        1.036     &     7.284  &         0.000        &        5.515    &        9.576     \\\\\n",
       "\\textbf{sigma2}    &       9.8843  &        6.788     &     1.456  &         0.145        &       -3.420    &       23.189     \\\\\n",
       "\\bottomrule\n",
       "\\end{tabular}\n",
       "\\begin{tabular}{lclc}\n",
       "\\textbf{Ljung-Box (L1) (Q):}     & 1.77 & \\textbf{  Jarque-Bera (JB):  } & 0.81  \\\\\n",
       "\\textbf{Prob(Q):}                & 0.18 & \\textbf{  Prob(JB):          } & 0.67  \\\\\n",
       "\\textbf{Heteroskedasticity (H):} & 0.41 & \\textbf{  Skew:              } & 0.39  \\\\\n",
       "\\textbf{Prob(H) (two-sided):}    & 0.40 & \\textbf{  Kurtosis:          } & 1.92  \\\\\n",
       "\\bottomrule\n",
       "\\end{tabular}\n",
       "%\\caption{SARIMAX Results}\n",
       "\\end{center}\n",
       "\n",
       "Warnings: \\newline\n",
       " [1] Covariance matrix calculated using the outer product of gradients (complex-step)."
      ],
      "text/plain": [
       "<class 'statsmodels.iolib.summary.Summary'>\n",
       "\"\"\"\n",
       "                               SARIMAX Results                                \n",
       "==============================================================================\n",
       "Dep. Variable:                      y   No. Observations:                   12\n",
       "Model:               SARIMAX(0, 1, 0)   Log Likelihood                 -28.209\n",
       "Date:                Wed, 10 May 2023   AIC                             60.417\n",
       "Time:                        13:59:45   BIC                             61.213\n",
       "Sample:                    01-01-2011   HQIC                            59.915\n",
       "                         - 01-01-2022                                         \n",
       "Covariance Type:                  opg                                         \n",
       "==============================================================================\n",
       "                 coef    std err          z      P>|z|      [0.025      0.975]\n",
       "------------------------------------------------------------------------------\n",
       "intercept      7.5455      1.036      7.284      0.000       5.515       9.576\n",
       "sigma2         9.8843      6.788      1.456      0.145      -3.420      23.189\n",
       "===================================================================================\n",
       "Ljung-Box (L1) (Q):                   1.77   Jarque-Bera (JB):                 0.81\n",
       "Prob(Q):                              0.18   Prob(JB):                         0.67\n",
       "Heteroskedasticity (H):               0.41   Skew:                             0.39\n",
       "Prob(H) (two-sided):                  0.40   Kurtosis:                         1.92\n",
       "===================================================================================\n",
       "\n",
       "Warnings:\n",
       "[1] Covariance matrix calculated using the outer product of gradients (complex-step).\n",
       "\"\"\""
      ]
     },
     "execution_count": 286,
     "metadata": {},
     "output_type": "execute_result"
    }
   ],
   "source": [
    "\n",
    "df=pd.read_csv('SAP successfactors.csv', parse_dates=['Year'], index_col='Year')\n",
    "arima_fit=pm.auto_arima(df['Total Talents'],error_action='ignore',suppress_warnings=True,seasonal=False)\n",
    "\n",
    "arima_fit.summary()\n",
    "\n",
    "\n"
   ]
  },
  {
   "cell_type": "code",
   "execution_count": 287,
   "metadata": {},
   "outputs": [
    {
     "name": "stdout",
     "output_type": "stream",
     "text": [
      "RMSE: 13.73559851869101\n",
      "[76 83 89] [70. 70. 70.]\n"
     ]
    },
    {
     "name": "stderr",
     "output_type": "stream",
     "text": [
      "c:\\Users\\haffi\\AppData\\Local\\Programs\\Python\\Python311\\Lib\\site-packages\\statsmodels\\tsa\\base\\tsa_model.py:473: ValueWarning: No frequency information was provided, so inferred frequency AS-JAN will be used.\n",
      "  self._init_dates(dates, freq)\n",
      "c:\\Users\\haffi\\AppData\\Local\\Programs\\Python\\Python311\\Lib\\site-packages\\statsmodels\\tsa\\base\\tsa_model.py:473: ValueWarning: No frequency information was provided, so inferred frequency AS-JAN will be used.\n",
      "  self._init_dates(dates, freq)\n",
      "c:\\Users\\haffi\\AppData\\Local\\Programs\\Python\\Python311\\Lib\\site-packages\\statsmodels\\tsa\\base\\tsa_model.py:473: ValueWarning: No frequency information was provided, so inferred frequency AS-JAN will be used.\n",
      "  self._init_dates(dates, freq)\n",
      "c:\\Users\\haffi\\AppData\\Local\\Programs\\Python\\Python311\\Lib\\site-packages\\statsmodels\\tsa\\statespace\\representation.py:374: FutureWarning: Unknown keyword arguments: dict_keys(['typ']).Passing unknown keyword arguments will raise a TypeError beginning in version 0.15.\n",
      "  warnings.warn(msg, FutureWarning)\n"
     ]
    }
   ],
   "source": [
    "from sklearn.model_selection import train_test_split\n",
    "import numpy as np\n",
    "from statsmodels.tsa.arima.model import ARIMA\n",
    "data = df\n",
    "\n",
    "ts = pd.Series(data['Total Talents'], index=pd.to_datetime(data.index))\n",
    "\n",
    "train_size = int(len(ts) * 0.8)  # 80% of the data for training\n",
    "train, test = ts[:train_size], ts[train_size:]\n",
    "model = ARIMA(train, order=arima_fit.order)\n",
    "results = model.fit()\n",
    "predictions = results.predict(start=len(train), end=len(ts)-1, typ='levels')\n",
    "\n",
    "expected = test.values\n",
    "predicted=np.round(predictions.values)\n",
    "rmse = np.sqrt(np.mean((predicted - expected)**2))\n",
    "print(\"RMSE:\", rmse)\n",
    "\n",
    "print(expected,predicted)\n",
    "\n"
   ]
  },
  {
   "cell_type": "code",
   "execution_count": 288,
   "metadata": {},
   "outputs": [
    {
     "name": "stdout",
     "output_type": "stream",
     "text": [
      "2023-01-01     96.545455\n",
      "2024-01-01    104.090909\n",
      "2025-01-01    111.636364\n",
      "2026-01-01    119.181818\n",
      "2027-01-01    126.727273\n",
      "Freq: AS-JAN, dtype: float64 [[ 90.38346445 102.70744464]\n",
      " [ 95.37653913 112.80527905]\n",
      " [100.96348372 122.30924355]\n",
      " [106.857838   131.50579837]\n",
      " [112.948644   140.50590145]]\n"
     ]
    }
   ],
   "source": [
    "forecast_horizon = 5\n",
    "fc, conf = arima_fit.predict(n_periods=forecast_horizon, return_conf_int=True)\n",
    "\n",
    "\n",
    "print(fc, conf)\n",
    "\n"
   ]
  },
  {
   "cell_type": "code",
   "execution_count": 289,
   "metadata": {},
   "outputs": [
    {
     "name": "stdout",
     "output_type": "stream",
     "text": [
      "            Total Talents  Lower Bound  Upper Bound\n",
      "2023-01-01           97.0         90.0        103.0\n",
      "2024-01-01          104.0         95.0        113.0\n",
      "2025-01-01          112.0        101.0        122.0\n",
      "2026-01-01          119.0        107.0        132.0\n",
      "2027-01-01          127.0        113.0        141.0\n"
     ]
    }
   ],
   "source": [
    "# Create a datetime index for the forecast dates\n",
    "start_date = pd.to_datetime(df.index.max(), format='%Y') + pd.DateOffset(years=1)\n",
    "freq = 'YS'\n",
    "fc_array = np.round(np.array(fc))\n",
    "conf=np.round(conf)\n",
    "forecast_dates = pd.date_range(start=start_date, periods=forecast_horizon, freq=freq)\n",
    "forecast_df = pd.DataFrame({'Total Talents': fc_array, 'Lower Bound': conf[:, 0], 'Upper Bound': conf[:, 1]}, index=forecast_dates)\n",
    "\n",
    "# Print the forecasted values with the year as the index\n",
    "print(forecast_df)"
   ]
  },
  {
   "cell_type": "code",
   "execution_count": 290,
   "metadata": {},
   "outputs": [],
   "source": [
    "forecast_df.to_csv('forecast.csv')\n"
   ]
  }
 ],
 "metadata": {
  "kernelspec": {
   "display_name": "Python 3",
   "language": "python",
   "name": "python3"
  },
  "language_info": {
   "codemirror_mode": {
    "name": "ipython",
    "version": 3
   },
   "file_extension": ".py",
   "mimetype": "text/x-python",
   "name": "python",
   "nbconvert_exporter": "python",
   "pygments_lexer": "ipython3",
   "version": "3.11.1"
  },
  "orig_nbformat": 4
 },
 "nbformat": 4,
 "nbformat_minor": 2
}
